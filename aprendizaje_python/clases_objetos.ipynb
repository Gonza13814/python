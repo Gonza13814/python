{
 "cells": [
  {
   "cell_type": "markdown",
   "metadata": {},
   "source": [
    "# CLASES Y OBJETOS"
   ]
  },
  {
   "cell_type": "markdown",
   "metadata": {},
   "source": [
    "### HERENCIA"
   ]
  },
  {
   "cell_type": "code",
   "execution_count": null,
   "metadata": {},
   "outputs": [],
   "source": [
    "class pokemon:\n",
    "    pass\n",
    "    def __init__(self, nombre, tipo):\n",
    "        self.nombre = nombre\n",
    "        self.tipo = tipo\n",
    "    \n",
    "    def descripcion(self):\n",
    "        return '{} es un pokemon de tipo: {}'.format(self.nombre, self.tipo)\n",
    "    \n",
    "class pikachu (pokemon): \n",
    "    def ataque(self, tipoAtaque):\n",
    "        return '{} tipo de ataque: {}'.format(self.nombre, tipoAtaque) \n",
    "    \n",
    "class charmander(pokemon):\n",
    "    def ataque(self, tipoAtaque):\n",
    "        return '{} tipo de ataque: {}'.format(self.nombre, tipoAtaque) \n",
    "    \n",
    "nuevo_pokemon = "
   ]
  }
 ],
 "metadata": {
  "language_info": {
   "name": "python"
  }
 },
 "nbformat": 4,
 "nbformat_minor": 2
}
