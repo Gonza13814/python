{
 "cells": [
  {
   "cell_type": "markdown",
   "metadata": {},
   "source": [
    "# CLASES Y OBJETOS"
   ]
  },
  {
   "cell_type": "markdown",
   "metadata": {},
   "source": [
    "### HERENCIA"
   ]
  },
  {
   "cell_type": "code",
   "execution_count": null,
   "metadata": {},
   "outputs": [
    {
     "name": "stdout",
     "output_type": "stream",
     "text": [
      "Boby es un pokemon de tipo: electrico\n",
      "Boby tipo de ataque: nashe\n"
     ]
    }
   ],
   "source": [
    "class pokemon:\n",
    "    pass\n",
    "    def __init__(self, nombre, tipo):\n",
    "        self.nombre = nombre\n",
    "        self.tipo = tipo\n",
    "    \n",
    "    def descripcion(self):\n",
    "        return '{} es un pokemon de tipo: {}'.format(self.nombre, self.tipo)\n",
    "    \n",
    "class pikachu (pokemon): \n",
    "    def ataque(self, tipoAtaque):\n",
    "        return '{} tipo de ataque: {}'.format(self.nombre, tipoAtaque) \n",
    "    \n",
    "class charmander(pokemon):\n",
    "    def ataque(self, tipoAtaque):\n",
    "        return '{} tipo de ataque: {}'.format(self.nombre, tipoAtaque) \n",
    "    \n",
    "nuevo_pokemon = pikachu('Boby', 'electrico')\n",
    "print(nuevo_pokemon.descripcion())\n",
    "print(nuevo_pokemon.ataque('impacto trueno'))"
   ]
  }
 ],
 "metadata": {
  "kernelspec": {
   "display_name": "Python 3",
   "language": "python",
   "name": "python3"
  },
  "language_info": {
   "codemirror_mode": {
    "name": "ipython",
    "version": 3
   },
   "file_extension": ".py",
   "mimetype": "text/x-python",
   "name": "python",
   "nbconvert_exporter": "python",
   "pygments_lexer": "ipython3",
   "version": "3.12.5"
  }
 },
 "nbformat": 4,
 "nbformat_minor": 2
}
